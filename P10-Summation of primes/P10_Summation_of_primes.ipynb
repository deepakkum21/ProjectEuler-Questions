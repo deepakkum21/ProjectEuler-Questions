{
  "nbformat": 4,
  "nbformat_minor": 0,
  "metadata": {
    "colab": {
      "name": "P10-Summation of primes.ipynb",
      "provenance": []
    },
    "kernelspec": {
      "name": "python3",
      "display_name": "Python 3"
    }
  },
  "cells": [
    {
      "cell_type": "markdown",
      "metadata": {
        "id": "ET5DI8JVa-wJ",
        "colab_type": "text"
      },
      "source": [
        "##Summation of primes\n",
        "   \n",
        "###Problem 10\n",
        "###The sum of the primes below 10 is 2 + 3 + 5 + 7 = 17.\n",
        "\n",
        "###Find the sum of all the primes below two million."
      ]
    },
    {
      "cell_type": "code",
      "metadata": {
        "id": "FHlj2u3pbU27",
        "colab_type": "code",
        "colab": {}
      },
      "source": [
        "import sympy"
      ],
      "execution_count": 0,
      "outputs": []
    },
    {
      "cell_type": "code",
      "metadata": {
        "id": "sV-K717ra4LT",
        "colab_type": "code",
        "colab": {}
      },
      "source": [
        "def sumOfPrimes(till_no):\n",
        "  sum_prime = 0\n",
        "  for i in sympy.primerange(2,till_no):\n",
        "    sum_prime+=i\n",
        "  return sum_prime"
      ],
      "execution_count": 0,
      "outputs": []
    },
    {
      "cell_type": "code",
      "metadata": {
        "id": "re33skmQb9zg",
        "colab_type": "code",
        "colab": {
          "base_uri": "https://localhost:8080/",
          "height": 35
        },
        "outputId": "c383b9df-e780-48d4-ba1f-3c5088513b1e"
      },
      "source": [
        "print(sumOfPrimes(2000000))"
      ],
      "execution_count": 11,
      "outputs": [
        {
          "output_type": "stream",
          "text": [
            "142913828922\n"
          ],
          "name": "stdout"
        }
      ]
    },
    {
      "cell_type": "code",
      "metadata": {
        "id": "nrmrg0zOcAHL",
        "colab_type": "code",
        "colab": {}
      },
      "source": [
        ""
      ],
      "execution_count": 0,
      "outputs": []
    }
  ]
}