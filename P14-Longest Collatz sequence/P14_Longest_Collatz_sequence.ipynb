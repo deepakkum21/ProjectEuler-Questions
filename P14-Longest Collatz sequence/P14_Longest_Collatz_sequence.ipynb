{
  "nbformat": 4,
  "nbformat_minor": 0,
  "metadata": {
    "colab": {
      "name": "P14-Longest Collatz sequence.ipynb",
      "provenance": []
    },
    "kernelspec": {
      "name": "python3",
      "display_name": "Python 3"
    }
  },
  "cells": [
    {
      "cell_type": "markdown",
      "metadata": {
        "id": "HIpbZ_FHHLXD",
        "colab_type": "text"
      },
      "source": [
        "# P-14 Longest Collatz sequence\n",
        "<h1>https://projecteuler.net/problem=14</h1>\n",
        "\n",
        "The following iterative sequence is defined for the set of positive integers:\n",
        "\n",
        "n → n/2 (n is even)\n",
        "n → 3n + 1 (n is odd)\n",
        "\n",
        "Using the rule above and starting with 13, we generate the following sequence:\n",
        "\n",
        "13 → 40 → 20 → 10 → 5 → 16 → 8 → 4 → 2 → 1\n",
        "It can be seen that this sequence (starting at 13 and finishing at 1) contains 10 terms. Although it has not been proved yet (Collatz Problem), it is thought that all starting numbers finish at 1.\n",
        "\n",
        "Which starting number, under one million, produces the longest chain?\n",
        "\n",
        "NOTE: Once the chain starts the terms are allowed to go above one million."
      ]
    },
    {
      "cell_type": "code",
      "metadata": {
        "id": "qErboHy-HqKW",
        "colab_type": "code",
        "colab": {}
      },
      "source": [
        "import numpy as np"
      ],
      "execution_count": 0,
      "outputs": []
    },
    {
      "cell_type": "code",
      "metadata": {
        "id": "1uvkmi2XIxfh",
        "colab_type": "code",
        "colab": {}
      },
      "source": [
        "ar_million = np.arange(1,1000000) "
      ],
      "execution_count": 0,
      "outputs": []
    },
    {
      "cell_type": "code",
      "metadata": {
        "id": "bHkubOC3LHn2",
        "colab_type": "code",
        "colab": {
          "base_uri": "https://localhost:8080/",
          "height": 35
        },
        "outputId": "07a2cb0c-a20a-4a97-9bac-c3c851a4253d"
      },
      "source": [
        "ar_million"
      ],
      "execution_count": 16,
      "outputs": [
        {
          "output_type": "execute_result",
          "data": {
            "text/plain": [
              "array([     1,      2,      3, ..., 999997, 999998, 999999])"
            ]
          },
          "metadata": {
            "tags": []
          },
          "execution_count": 16
        }
      ]
    },
    {
      "cell_type": "code",
      "metadata": {
        "id": "APJAVn94LJNp",
        "colab_type": "code",
        "colab": {}
      },
      "source": [
        "def collatz_sequence(no):\n",
        "  counter = 1\n",
        "  while no>1:\n",
        "    #print('no: ',no)\n",
        "    if no%2 ==0:\n",
        "      no=no/2\n",
        "    else:\n",
        "      no=3*no+1\n",
        "    counter+=1\n",
        "  return counter\n",
        "    "
      ],
      "execution_count": 0,
      "outputs": []
    },
    {
      "cell_type": "code",
      "metadata": {
        "id": "DmQlDfw9WSUi",
        "colab_type": "code",
        "colab": {
          "base_uri": "https://localhost:8080/",
          "height": 35
        },
        "outputId": "6b0d36e4-88f3-4dbc-ff81-d51865b6be0f"
      },
      "source": [
        "print(collatz_sequence(9))"
      ],
      "execution_count": 24,
      "outputs": [
        {
          "output_type": "stream",
          "text": [
            "20\n"
          ],
          "name": "stdout"
        }
      ]
    },
    {
      "cell_type": "code",
      "metadata": {
        "id": "itaJs6lrWYng",
        "colab_type": "code",
        "colab": {}
      },
      "source": [
        "def longest_collatz_sequence(no):\n",
        "  longest=0\n",
        "  n=0\n",
        "  for i in range(1,no):\n",
        "    returned_value = collatz_sequence(i)\n",
        "    if(returned_value>longest):\n",
        "      longest = returned_value\n",
        "      no=i\n",
        "  return longest,no"
      ],
      "execution_count": 0,
      "outputs": []
    },
    {
      "cell_type": "code",
      "metadata": {
        "id": "8OdyLbxbfDjy",
        "colab_type": "code",
        "colab": {
          "base_uri": "https://localhost:8080/",
          "height": 35
        },
        "outputId": "89fec06a-18b2-4a14-debe-46e282fef1a6"
      },
      "source": [
        "print(longest_collatz_sequence(1000000))"
      ],
      "execution_count": 26,
      "outputs": [
        {
          "output_type": "stream",
          "text": [
            "(525, 837799)\n"
          ],
          "name": "stdout"
        }
      ]
    },
    {
      "cell_type": "code",
      "metadata": {
        "id": "U8PN_qW3fHLV",
        "colab_type": "code",
        "colab": {}
      },
      "source": [
        ""
      ],
      "execution_count": 0,
      "outputs": []
    }
  ]
}