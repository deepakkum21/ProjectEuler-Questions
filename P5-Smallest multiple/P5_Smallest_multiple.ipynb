{
  "nbformat": 4,
  "nbformat_minor": 0,
  "metadata": {
    "colab": {
      "name": "P5-Smallest multiple.ipynb",
      "provenance": []
    },
    "kernelspec": {
      "name": "python3",
      "display_name": "Python 3"
    }
  },
  "cells": [
    {
      "cell_type": "markdown",
      "metadata": {
        "id": "vF0_ApiE9Oah",
        "colab_type": "text"
      },
      "source": [
        "##Smallest multiple\n",
        "    \n",
        "###Problem 5\n",
        "###2520 is the smallest number that can be divided by each of the numbers from 1 to 10 without any remainder.\n",
        "\n",
        "###What is the smallest positive number that is evenly divisible by all of the numbers from 1 to 20?"
      ]
    },
    {
      "cell_type": "code",
      "metadata": {
        "id": "Ksv0mzw49HpY",
        "colab_type": "code",
        "colab": {
          "base_uri": "https://localhost:8080/",
          "height": 35
        },
        "outputId": "dfdf082a-0327-49e5-f3f0-ffa83198909d"
      },
      "source": [
        "def smallest_multiple(first_no_to_no):\n",
        "  i=2\n",
        "  while True:\n",
        "    #print('i: ',i)\n",
        "    for j in range(1,first_no_to_no+1):\n",
        "      if i%j == 0:\n",
        "        #i = i+1\n",
        "        if(j==first_no_to_no):\n",
        "          return i\n",
        "      else:\n",
        "        i+=1\n",
        "        break\n",
        "  \n",
        "print(smallest_multiple(20))\n"
      ],
      "execution_count": 10,
      "outputs": [
        {
          "output_type": "stream",
          "text": [
            "232792560\n"
          ],
          "name": "stdout"
        }
      ]
    },
    {
      "cell_type": "code",
      "metadata": {
        "id": "TeOINJF4AHFN",
        "colab_type": "code",
        "colab": {}
      },
      "source": [
        ""
      ],
      "execution_count": 0,
      "outputs": []
    }
  ]
}