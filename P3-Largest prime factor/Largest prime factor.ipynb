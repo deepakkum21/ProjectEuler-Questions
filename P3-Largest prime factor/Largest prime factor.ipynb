{
 "cells": [
  {
   "cell_type": "markdown",
   "metadata": {},
   "source": [
    "## Largest prime factor\n",
    "   \n",
    "### Problem 3\n",
    "### The prime factors of 13195 are 5, 7, 13 and 29.\n",
    "\n",
    "### What is the largest prime factor of the number 600851475143 ?"
   ]
  },
  {
   "cell_type": "markdown",
   "metadata": {},
   "source": [
    "## sympy library\n",
    "\n",
    "### isprime(n) : It tests if n is a prime number (True) or not (False).\n",
    "\n",
    "### primerange(a, b) : It generates a list of all prime numbers in the range [a, b).\n",
    "\n",
    "### randprime(a, b) : It returns a random prime number in the range [a, b).\n",
    "\n",
    "### primepi(n) : It returns the number of prime numbers less than or equal to n.\n",
    "\n",
    "### prime(nth) : It returns the nth prime, with the primes indexed as prime(1) = 2. The nth prime is approximately n*log(n) and can never be larger than 2**n.\n",
    "\n",
    "### prevprime(n) : It returns the prev prime smaller than n.\n",
    "\n",
    "### nextprime(n) : It returns the next greater prime than n.\n",
    "\n",
    "### sieve.primerange(a, b) : It generates all prime numbers in the range [a, b), implemented as a dynamically growing sieve of Eratosthenes."
   ]
  },
  {
   "cell_type": "code",
   "execution_count": 1,
   "metadata": {},
   "outputs": [],
   "source": [
    "# Library functions for prime\n",
    "import sympy"
   ]
  },
  {
   "cell_type": "code",
   "execution_count": null,
   "metadata": {},
   "outputs": [
    {
     "name": "stdout",
     "output_type": "stream",
     "text": [
      "is factor:  71\n",
      "is factor:  839\n",
      "is factor:  1471\n",
      "is factor:  6857\n"
     ]
    }
   ],
   "source": [
    "# Python Program to find the primefactors of a number\n",
    "\n",
    "# This function computes the factor of the argument passed\n",
    "def largest_prime_factors(x):\n",
    "    largest_prime_factor = 1\n",
    "    # print(\"The factors of\",x,\"are:\")\n",
    "    for i in range(1, x//2):\n",
    "        if x%i==0 and sympy.isprime(i):\n",
    "            print('is factor: ',i)\n",
    "            #if sympy.isprime(i):\n",
    "                #print('isprime: ',i)\n",
    "            largest_prime_factor = i\n",
    "       #if sympy.isprime(i) and x % i == 0:\n",
    "            \n",
    "           #print(i)\n",
    "           \n",
    "          \n",
    "    return largest_prime_factor\n",
    "\n",
    "print(largest_prime_factors(600851475143))\n",
    "        "
   ]
  },
  {
   "cell_type": "code",
   "execution_count": 12,
   "metadata": {},
   "outputs": [],
   "source": [
    "a = 600851475143"
   ]
  },
  {
   "cell_type": "code",
   "execution_count": 13,
   "metadata": {},
   "outputs": [
    {
     "data": {
      "text/plain": [
       "600851475143"
      ]
     },
     "execution_count": 13,
     "metadata": {},
     "output_type": "execute_result"
    }
   ],
   "source": [
    "a"
   ]
  },
  {
   "cell_type": "code",
   "execution_count": null,
   "metadata": {},
   "outputs": [],
   "source": []
  }
 ],
 "metadata": {
  "kernelspec": {
   "display_name": "Python 3",
   "language": "python",
   "name": "python3"
  },
  "language_info": {
   "codemirror_mode": {
    "name": "ipython",
    "version": 3
   },
   "file_extension": ".py",
   "mimetype": "text/x-python",
   "name": "python",
   "nbconvert_exporter": "python",
   "pygments_lexer": "ipython3",
   "version": "3.7.7"
  }
 },
 "nbformat": 4,
 "nbformat_minor": 4
}
