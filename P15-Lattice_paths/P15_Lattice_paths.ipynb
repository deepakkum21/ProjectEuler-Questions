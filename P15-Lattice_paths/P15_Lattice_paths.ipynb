{
  "nbformat": 4,
  "nbformat_minor": 0,
  "metadata": {
    "colab": {
      "name": "P15-Lattice paths.ipynb",
      "provenance": []
    },
    "kernelspec": {
      "name": "python3",
      "display_name": "Python 3"
    }
  },
  "cells": [
    {
      "cell_type": "markdown",
      "metadata": {
        "id": "ET5DI8JVa-wJ",
        "colab_type": "text"
      },
      "source": [
        "##Lattice paths\n",
        "   \n",
        "###Problem 15\n",
        "###Starting in the top left corner of a 2×2 grid, and only being able to move to the right and down, there are exactly 6 routes to the bottom right corner.\n",
        "\n",
        "#### https://projecteuler.net/problem=15\n",
        "###How many such routes are there through a 20×20 grid?"
      ]
    },
    {
      "cell_type": "code",
      "metadata": {
        "id": "sV-K717ra4LT",
        "colab_type": "code",
        "colab": {}
      },
      "source": [
        "def lattice_paths(no_of_row, no_of_col):\n",
        "  if(no_of_row == 1 or no_of_col==1):\n",
        "    return 1\n",
        "  return lattice_paths(no_of_row-1, no_of_col) + lattice_paths(no_of_row, no_of_col-1)"
      ],
      "execution_count": 1,
      "outputs": []
    },
    {
      "cell_type": "code",
      "metadata": {
        "id": "re33skmQb9zg",
        "colab_type": "code",
        "colab": {}
      },
      "source": [
        "print(lattice_paths(21,21))"
      ],
      "execution_count": null,
      "outputs": []
    },
    {
      "cell_type": "code",
      "metadata": {
        "id": "nrmrg0zOcAHL",
        "colab_type": "code",
        "colab": {}
      },
      "source": [
        ""
      ],
      "execution_count": null,
      "outputs": []
    }
  ]
}