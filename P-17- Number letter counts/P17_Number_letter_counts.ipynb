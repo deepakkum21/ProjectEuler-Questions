{
 "cells": [
  {
   "cell_type": "markdown",
   "metadata": {
    "colab_type": "text",
    "id": "HIpbZ_FHHLXD"
   },
   "source": [
    "# P-17- Number letter counts\n",
    "<h1>https://projecteuler.net/problem=17</h1>\n",
    "\n",
    "If the numbers 1 to 5 are written out in words: one, two, three, four, five, then there are 3 + 3 + 5 + 4 + 4 = 19 letters used in total.\n",
    "\n",
    "If all the numbers from 1 to 1000 (one thousand) inclusive were written out in words, how many letters would be used?\n",
    "\n",
    "\n",
    "NOTE: Do not count spaces or hyphens. For example, 342 (three hundred and forty-two) contains 23 letters and 115 (one hundred and fifteen) contains 20 letters. The use of \"and\" when writing out numbers is in compliance with British usage."
   ]
  },
  {
   "cell_type": "code",
   "execution_count": 1,
   "metadata": {
    "colab": {},
    "colab_type": "code",
    "id": "iu1rtLRS7urr"
   },
   "outputs": [],
   "source": [
    "ones= ['','one','two','three','four','five','six','seven','eight','nine','ten','eleven','twelve','thirteen','fourteen','fifteen','sixteen','seventeen','eighteen','nineteen']\n",
    "tens=['','','twenty','thirty','forty','fifty','sixty','seventy','eighty','ninty']\n",
    "hundreds= ['hundred and']"
   ]
  },
  {
   "cell_type": "code",
   "execution_count": 7,
   "metadata": {
    "colab": {},
    "colab_type": "code",
    "id": "gWAlHjN0osbI"
   },
   "outputs": [],
   "source": [
    "def no_letter(no):\n",
    "  digits =[]\n",
    "  letter=[]\n",
    "  i=1  \n",
    "  while no>0:\n",
    "#     if(no%100 in range(10,20)):\n",
    "    if(no%100==10 or no%100==11 or no%100==12 or no%100==13 or no%100==14 or no%100==15 or no%100==16 or no%100==17 or no%100==18 or no%100==19 ):\n",
    "      letter.append(ones[no%100])\n",
    "      digits.append(no%10)\n",
    "      digits.append(no%10)\n",
    "      no = no//100\n",
    "      i=i+2\n",
    "      print('noo: ',no)\n",
    "    digits.append(no%10)\n",
    "    if(i==1):\n",
    "      #print('1: ',i)\n",
    "      letter.append(ones[no%10])\n",
    "    if(i==2):\n",
    "      #print('2: ',i)\n",
    "      letter.append(tens[no%10])\n",
    "    if(i==3 and no!=0):\n",
    "      #print('2: ',i)\n",
    "      if(digits[0] == 0 and digits[1] == 0):\n",
    "        letter.append(ones[no%10] + 'hundred')\n",
    "      else:\n",
    "        letter.append(ones[no%10] + 'hundredand')\n",
    "    if(i==4 and no!=0):\n",
    "      if(digits[0] == 0 and digits[1] == 0 and digits[2]==0):\n",
    "        letter[2]=''\n",
    "        letter.append(ones[no%10] + 'thousand')\n",
    "      else:\n",
    "        letter.append(ones[no%10] + 'thousand')\n",
    "    i+=1\n",
    "    no=no//10\n",
    "  #return reversed(digits)\n",
    "  #return letter[::-1],digits[::-1]\n",
    "  print('before :',letter[::-1])\n",
    "  return letter[::-1]"
   ]
  },
  {
   "cell_type": "code",
   "execution_count": 20,
   "metadata": {
    "colab": {
     "base_uri": "https://localhost:8080/",
     "height": 73
    },
    "colab_type": "code",
    "id": "CZR9NABIpVcm",
    "outputId": "df0f59df-85e6-41a2-9cfe-c57c0e9bf171"
   },
   "outputs": [
    {
     "name": "stdout",
     "output_type": "stream",
     "text": [
      "noo:  2\n",
      "before : ['twohundredand', 'eleven']\n",
      "['twohundredand', 'eleven']\n"
     ]
    }
   ],
   "source": [
    "print(no_letter(211))"
   ]
  },
  {
   "cell_type": "code",
   "execution_count": 4,
   "metadata": {
    "colab": {},
    "colab_type": "code",
    "id": "cfXhsbAhpanW"
   },
   "outputs": [],
   "source": [
    "def no_letter_count():\n",
    "  total_letter_count = 0\n",
    "  total_letter = ''.join(ones)\n",
    "  for i in range(100,102):\n",
    "    print(no_letter(i))\n",
    "    letter_count = len(''.join(no_letter(i))) \n",
    "    #total_letter =   total_letter.join(no_letter(i))  \n",
    "    total_letter_count+= letter_count\n",
    "      #max_letter_count_no = i\n",
    "  \n",
    "  return total_letter_count\n",
    "\n",
    "  "
   ]
  },
  {
   "cell_type": "code",
   "execution_count": 5,
   "metadata": {
    "colab": {
     "base_uri": "https://localhost:8080/",
     "height": 148
    },
    "colab_type": "code",
    "id": "JtyB--bnrJ8E",
    "outputId": "d593357b-8ff8-40f5-ed43-b46788429cce"
   },
   "outputs": [
    {
     "name": "stdout",
     "output_type": "stream",
     "text": [
      "noo:  0\n",
      "before : ['ten', '']\n",
      "['ten', '']\n",
      "noo:  0\n",
      "before : ['ten', '']\n",
      "noo:  0\n",
      "before : ['ten', 'one']\n",
      "['ten', 'one']\n",
      "noo:  0\n",
      "before : ['ten', 'one']\n"
     ]
    },
    {
     "data": {
      "text/plain": [
       "9"
      ]
     },
     "execution_count": 5,
     "metadata": {},
     "output_type": "execute_result"
    }
   ],
   "source": [
    "no_letter_count()"
   ]
  }
 ],
 "metadata": {
  "colab": {
   "name": "P17-Number letter counts.ipynb",
   "provenance": []
  },
  "kernelspec": {
   "display_name": "Python 3",
   "language": "python",
   "name": "python3"
  },
  "language_info": {
   "codemirror_mode": {
    "name": "ipython",
    "version": 3
   },
   "file_extension": ".py",
   "mimetype": "text/x-python",
   "name": "python",
   "nbconvert_exporter": "python",
   "pygments_lexer": "ipython3",
   "version": "3.7.7"
  }
 },
 "nbformat": 4,
 "nbformat_minor": 1
}
