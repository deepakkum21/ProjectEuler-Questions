{
  "nbformat": 4,
  "nbformat_minor": 0,
  "metadata": {
    "colab": {
      "name": "P6-Sum square difference",
      "provenance": []
    },
    "kernelspec": {
      "name": "python3",
      "display_name": "Python 3"
    }
  },
  "cells": [
    {
      "cell_type": "markdown",
      "metadata": {
        "id": "Xiq18-9OKtbi",
        "colab_type": "text"
      },
      "source": [
        "##Sum square difference\n",
        "   \n",
        "###Problem 6\n",
        "###The sum of the squares of the first ten natural numbers is,\n",
        "\n",
        "###12+22+...+102=385\n",
        "###The square of the sum of the first ten natural numbers is,\n",
        "\n",
        "###(1+2+...+10)2=552=3025\n",
        "###Hence the difference between the sum of the squares of the first ten natural numbers and the square of the sum is 3025−385=2640.\n",
        "\n",
        "###Find the difference between the sum of the squares of the first one hundred natural numbers and the square of the sum."
      ]
    },
    {
      "cell_type": "code",
      "metadata": {
        "id": "Oz-MqUCxKkM8",
        "colab_type": "code",
        "colab": {}
      },
      "source": [
        "def sum_square_diff(first_natural_no):\n",
        "  sum_of_no = 0\n",
        "  sum_of_no_square = 0\n",
        "  for i in range(1,first_natural_no+1):\n",
        "    sum_of_no +=i\n",
        "    sum_of_no_square += i**2\n",
        "  return sum_of_no**2 - sum_of_no_square\n",
        "\n",
        "\n"
      ],
      "execution_count": 0,
      "outputs": []
    },
    {
      "cell_type": "code",
      "metadata": {
        "id": "uGvq_Y4KLr2g",
        "colab_type": "code",
        "colab": {
          "base_uri": "https://localhost:8080/",
          "height": 35
        },
        "outputId": "05462d4b-a138-4849-9bd1-3913e577b281"
      },
      "source": [
        "print(sum_square_diff(100))"
      ],
      "execution_count": 7,
      "outputs": [
        {
          "output_type": "stream",
          "text": [
            "25164150\n"
          ],
          "name": "stdout"
        }
      ]
    },
    {
      "cell_type": "code",
      "metadata": {
        "id": "xiFUhQsBLt4s",
        "colab_type": "code",
        "colab": {}
      },
      "source": [
        ""
      ],
      "execution_count": 0,
      "outputs": []
    }
  ]
}