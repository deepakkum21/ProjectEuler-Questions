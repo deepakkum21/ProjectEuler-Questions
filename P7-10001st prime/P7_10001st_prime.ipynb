{
  "nbformat": 4,
  "nbformat_minor": 0,
  "metadata": {
    "colab": {
      "name": "P7-10001st prime.ipynb",
      "provenance": []
    },
    "kernelspec": {
      "name": "python3",
      "display_name": "Python 3"
    }
  },
  "cells": [
    {
      "cell_type": "markdown",
      "metadata": {
        "id": "s3mM4kJWM16i",
        "colab_type": "text"
      },
      "source": [
        "##10001st prime\n",
        "    \n",
        "###Problem 7\n",
        "###By listing the first six prime numbers: 2, 3, 5, 7, 11, and 13, we can see that the 6th prime is 13.\n",
        "\n",
        "###What is the 10 001st prime number?"
      ]
    },
    {
      "cell_type": "code",
      "metadata": {
        "id": "0fgy5JEjMxgj",
        "colab_type": "code",
        "colab": {}
      },
      "source": [
        "import sympy\n",
        "def prime_10001():\n",
        "  i = 1\n",
        "  current_prime = 2\n",
        "  while i<10001:\n",
        "    current_prime = sympy.nextprime(current_prime)\n",
        "    #print(current_prime)\n",
        "    i+=1\n",
        "  return current_prime\n"
      ],
      "execution_count": 0,
      "outputs": []
    },
    {
      "cell_type": "code",
      "metadata": {
        "id": "CTVirEJrOGFw",
        "colab_type": "code",
        "colab": {
          "base_uri": "https://localhost:8080/",
          "height": 35
        },
        "outputId": "03bce71f-d2a0-4afd-9621-790b96b2b909"
      },
      "source": [
        "print(prime_10001())"
      ],
      "execution_count": 14,
      "outputs": [
        {
          "output_type": "stream",
          "text": [
            "104743\n"
          ],
          "name": "stdout"
        }
      ]
    },
    {
      "cell_type": "code",
      "metadata": {
        "id": "-lb6qRlzOTy0",
        "colab_type": "code",
        "colab": {
          "base_uri": "https://localhost:8080/",
          "height": 35
        },
        "outputId": "6a882fea-1312-4b12-d85b-3227b90c5e1b"
      },
      "source": [
        "print(sympy.nextprime(13))"
      ],
      "execution_count": 4,
      "outputs": [
        {
          "output_type": "stream",
          "text": [
            "17\n"
          ],
          "name": "stdout"
        }
      ]
    },
    {
      "cell_type": "code",
      "metadata": {
        "id": "M3F8AbB0Ob0e",
        "colab_type": "code",
        "colab": {}
      },
      "source": [
        ""
      ],
      "execution_count": 0,
      "outputs": []
    }
  ]
}