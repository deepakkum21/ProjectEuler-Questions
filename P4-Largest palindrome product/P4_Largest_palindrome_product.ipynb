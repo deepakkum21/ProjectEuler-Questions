{
  "nbformat": 4,
  "nbformat_minor": 0,
  "metadata": {
    "colab": {
      "name": "P4-Largest palindrome product.ipynb",
      "provenance": []
    },
    "kernelspec": {
      "name": "python3",
      "display_name": "Python 3"
    }
  },
  "cells": [
    {
      "cell_type": "markdown",
      "metadata": {
        "id": "PZJNdMpOwrHF",
        "colab_type": "text"
      },
      "source": [
        "## Largest palindrome product\n",
        "  \n",
        "### Problem 4\n",
        "### A palindromic number reads the same both ways. The largest palindrome made from the product of two 2-digit numbers is 9009 = 91 × 99.\n",
        "\n",
        "### Find the largest palindrome made from the product of two 3-digit numbers.\n",
        "\n"
      ]
    },
    {
      "cell_type": "code",
      "metadata": {
        "id": "UmCKwyhEyS26",
        "colab_type": "code",
        "colab": {}
      },
      "source": [
        "def isPalindrome(no):\n",
        "  strno = str(no)\n",
        "  return strno == strno[::-1]"
      ],
      "execution_count": 0,
      "outputs": []
    },
    {
      "cell_type": "code",
      "metadata": {
        "id": "pmZo5TelyuWW",
        "colab_type": "code",
        "colab": {
          "base_uri": "https://localhost:8080/",
          "height": 35
        },
        "outputId": "7aaaa8a9-bb64-4f68-9798-caebfe61cea4"
      },
      "source": [
        "isPalindrome(91*99)"
      ],
      "execution_count": 5,
      "outputs": [
        {
          "output_type": "execute_result",
          "data": {
            "text/plain": [
              "True"
            ]
          },
          "metadata": {
            "tags": []
          },
          "execution_count": 5
        }
      ]
    },
    {
      "cell_type": "code",
      "metadata": {
        "id": "zoWymFbYwa5r",
        "colab_type": "code",
        "colab": {
          "base_uri": "https://localhost:8080/",
          "height": 35
        },
        "outputId": "8028e4ae-c0b9-41b0-fe9b-a57312921f9f"
      },
      "source": [
        "def largest_palindrome_product() :\n",
        "  largest = 0\n",
        "  for i in range(100,1000):\n",
        "    for j in range(100,1000):\n",
        "      if(isPalindrome(i*j)):\n",
        "        #largest = str(i) + '*' + str(j) + ': ' + str(i*j)\n",
        "        if(i*j>largest):\n",
        "          largest = i*j\n",
        "  return largest\n",
        "\n",
        "print(largest_palindrome_product())"
      ],
      "execution_count": 13,
      "outputs": [
        {
          "output_type": "stream",
          "text": [
            "906609\n"
          ],
          "name": "stdout"
        }
      ]
    },
    {
      "cell_type": "code",
      "metadata": {
        "id": "cARDG4GYzLi9",
        "colab_type": "code",
        "colab": {}
      },
      "source": [
        ""
      ],
      "execution_count": 0,
      "outputs": []
    }
  ]
}