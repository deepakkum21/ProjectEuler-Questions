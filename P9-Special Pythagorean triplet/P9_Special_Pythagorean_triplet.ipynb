{
  "nbformat": 4,
  "nbformat_minor": 0,
  "metadata": {
    "colab": {
      "name": "P9-Special Pythagorean triplet.ipynb",
      "provenance": []
    },
    "kernelspec": {
      "name": "python3",
      "display_name": "Python 3"
    }
  },
  "cells": [
    {
      "cell_type": "markdown",
      "metadata": {
        "id": "0JfxF0xrW4Y6",
        "colab_type": "text"
      },
      "source": [
        "##Special Pythagorean triplet\n",
        "    \n",
        "###Problem 9\n",
        "###A Pythagorean triplet is a set of three natural numbers, a < b < c, for which,\n",
        "\n",
        "##a2 + b2 = c2\n",
        "###For example, 32 + 42 = 9 + 16 = 25 = 52.\n",
        "\n",
        "###There exists exactly one Pythagorean triplet for which a + b + c = 1000.\n",
        "###Find the product abc."
      ]
    },
    {
      "cell_type": "code",
      "metadata": {
        "id": "rplkzozVW1A9",
        "colab_type": "code",
        "colab": {}
      },
      "source": [
        "def SpecialPythagoreanTriplet(no):\n",
        "  for i in range(1,no//2):\n",
        "    for j in range(i+1,no//2):\n",
        "      for k in range(j+1,no//2):\n",
        "        if(((i*i) + (j*j)) == k*k):\n",
        "          if(i+j+k==no):\n",
        "            print(i,j,k)\n",
        "            return i,j,k,i*j*k\n"
      ],
      "execution_count": 0,
      "outputs": []
    },
    {
      "cell_type": "code",
      "metadata": {
        "id": "L_cAqDVLYvIP",
        "colab_type": "code",
        "colab": {
          "base_uri": "https://localhost:8080/",
          "height": 54
        },
        "outputId": "f73d2d32-df43-4e64-a52f-4cfb306a6b2f"
      },
      "source": [
        "print(SpecialPythagoreanTriplet(1000))"
      ],
      "execution_count": 21,
      "outputs": [
        {
          "output_type": "stream",
          "text": [
            "200 375 425\n",
            "(200, 375, 425, 31875000)\n"
          ],
          "name": "stdout"
        }
      ]
    },
    {
      "cell_type": "code",
      "metadata": {
        "id": "U2F7AVDPY8EA",
        "colab_type": "code",
        "colab": {}
      },
      "source": [
        ""
      ],
      "execution_count": 0,
      "outputs": []
    }
  ]
}